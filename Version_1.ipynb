{
  "nbformat": 4,
  "nbformat_minor": 0,
  "metadata": {
    "kernelspec": {
      "display_name": "Python 3",
      "language": "python",
      "name": "python3"
    },
    "language_info": {
      "codemirror_mode": {
        "name": "ipython",
        "version": 3
      },
      "file_extension": ".py",
      "mimetype": "text/x-python",
      "name": "python",
      "nbconvert_exporter": "python",
      "pygments_lexer": "ipython3",
      "version": "3.7.6"
    },
    "colab": {
      "name": "Version_1.ipynb",
      "provenance": [],
      "include_colab_link": true
    }
  },
  "cells": [
    {
      "cell_type": "markdown",
      "metadata": {
        "id": "view-in-github",
        "colab_type": "text"
      },
      "source": [
        "<a href=\"https://colab.research.google.com/github/GirloftheLimberlost/BME_ELAT_SeniorProject/blob/master/Version_1.ipynb\" target=\"_parent\"><img src=\"https://colab.research.google.com/assets/colab-badge.svg\" alt=\"Open In Colab\"/></a>"
      ]
    },
    {
      "cell_type": "markdown",
      "metadata": {
        "id": "_qEQohhMQwOt"
      },
      "source": [
        "List of packages we need to install in the anaconda env:\n",
        "- matplotlib (pip install matplotlib)\n",
        "- conda (conda install pandas)"
      ]
    },
    {
      "cell_type": "markdown",
      "metadata": {
        "id": "mpSY8hr0QwO2"
      },
      "source": [
        "# Lesson #6\n",
        "### Signal Processing: Data Science 101 in Python\n"
      ]
    },
    {
      "cell_type": "markdown",
      "metadata": {
        "id": "AkxEnSwBQwO3"
      },
      "source": [
        "\n",
        "\n",
        "### Activity #1\n",
        "#### Here we initialize an integer, float, string, and array\n"
      ]
    },
    {
      "cell_type": "code",
      "metadata": {
        "id": "2aniGCbWQwO4"
      },
      "source": [
        "# For initializing all data types, the name of the variable is always\n",
        "# on the left of the equal sign and the value you are assigning to is \n",
        "# always on the right\n",
        "\n",
        "## Integer\n",
        "our_int = 523\n",
        "\n",
        "## Float\n",
        "our_float = 5.23\n",
        "\n",
        "## String\n",
        "our_string = \"Five hundred twenty three\"\n",
        "\n",
        "## Array\n",
        "# our_array = [\"Five\",\"hundred\",\"twenty\",\"three\"]\n",
        "our_array = [1, 2, 3, 4, 5]\n",
        "\n",
        "# It is important to note that variable names can not start with a number\n",
        "# and should also not be the name of a data type... you will run into errors,\n",
        "# for example: int = 123 --> this is a bad coding habit to get into\n",
        "\n",
        "# Not sure what datatype something is? Use the functions typeof() or isinstance()"
      ],
      "execution_count": null,
      "outputs": []
    },
    {
      "cell_type": "markdown",
      "metadata": {
        "id": "R7tD3qPTQwO5"
      },
      "source": [
        "### Activity #2\n",
        "#### Changing variable values + basic numeric operators for ints & floats"
      ]
    },
    {
      "cell_type": "code",
      "metadata": {
        "id": "XCjLGAu5QwO6"
      },
      "source": [
        "## Re-assigning variable to the sum of itself WITH another varaible\n",
        "our_int = 23\n",
        "our_other_int = 54.2\n",
        "our_int = our_int + our_other_int\n",
        "print(our_int)\n",
        "\n",
        "# notice the data type of the output versus the input, when/why did that change?\n",
        "\n",
        "\n",
        "## Try out the following operators for yourself, what does each one do?\n",
        "# + - / * // ** %\n",
        "\n",
        "# example: 2 ** 3 = 8  \n",
        "#       --> 2 * 2 * 2 = 8\n",
        "#       --> ** raises the first value to power of the second variable\n"
      ],
      "execution_count": null,
      "outputs": []
    },
    {
      "cell_type": "markdown",
      "metadata": {
        "id": "1bgf2yBKQwO7"
      },
      "source": [
        "### Activity #3\n",
        "#### Basics operations for strings"
      ]
    },
    {
      "cell_type": "code",
      "metadata": {
        "id": "7O_JOKWrQwO7"
      },
      "source": [
        "my_string = \"Hello\"\n",
        "print(my_string)\n",
        "\n",
        "my_new_string = my_string + \"World\"\n",
        "print(my_new_string)\n",
        "\n"
      ],
      "execution_count": null,
      "outputs": []
    },
    {
      "cell_type": "markdown",
      "metadata": {
        "id": "OhqBkDIGQwO8"
      },
      "source": [
        "#### Activity #4\n",
        "#### Basics operations for arrays"
      ]
    },
    {
      "cell_type": "code",
      "metadata": {
        "id": "FvXVCtBsQwO9"
      },
      "source": [
        "## Indexing\n",
        "print(our_array[0])\n",
        "print(our_array[1:3])\n",
        "print(our_array[2:])\n",
        "\n",
        "## Modifying Array Contents\n",
        " # appending\n",
        "our_array.append(30)\n",
        "print(our_array)\n",
        "\n",
        " # initialize a second array to join to the first\n",
        "our_other_array = [1, 2, 3, 6]\n",
        "\n",
        " # combine second array to the first\n",
        "our_big_array = our_array + our_other_array\n",
        "print(our_big_array)\n",
        "\n",
        " # removing at index\n",
        "our_array.pop(1)\n",
        "    # notice we don't have to re-assign for this to take effect\n",
        "\n",
        " # adding at index\n",
        "our_array.insert(1,1)\n",
        "    # notice we don't have to re-assign for this to take effect\n",
        "\n",
        " # finding the min/max\n",
        "array_min = min(our_array)\n",
        "   # try max()\n",
        "\n",
        "\n"
      ],
      "execution_count": null,
      "outputs": []
    },
    {
      "cell_type": "markdown",
      "metadata": {
        "id": "0zl8uCwVQwO-"
      },
      "source": [
        "### Activity #5\n",
        "#### Defining functions"
      ]
    },
    {
      "cell_type": "code",
      "metadata": {
        "id": "-2_l3akCQwPA"
      },
      "source": [
        "## Built-in functions\n",
        " # python comes with many builtin functions (don't have to import a package to use)\n",
        "x = -7\n",
        " # the next line re-assigns according to the output of the function\n",
        "x = abs(x)\n",
        "print(x)\n",
        " # try another, can you tell what this function does?\n",
        "y = 9\n",
        "y = abs(y)\n",
        "print(y)\n",
        "\n",
        "## Defining functions\n",
        "\n",
        " # Step 1: def the name and the order/name of arguements (inputs of the function)\n",
        "def our_function(arguement_1, arguement_2):\n",
        "\n",
        " # Step 2: Do something with the arguements, be sure to indent, and assign new value\n",
        "    our_output = arguement_1 + arguement_2\n",
        "    \n",
        " # Step 3: Output using return\n",
        "    return our_output\n",
        "\n",
        "## Using our function (remeber to assign to a new variable in order to store the function output)\n",
        "our_function_output = our_function(x,y)\n",
        "print(our_function_output)\n",
        "\n",
        "## Practice making your own function\n",
        "# For example - make a function that squares a number (x = 4 --> x = 16)"
      ],
      "execution_count": null,
      "outputs": []
    },
    {
      "cell_type": "markdown",
      "metadata": {
        "id": "gRRvdw_iQwPB"
      },
      "source": [
        "### Activity #6\n",
        "#### Imports "
      ]
    },
    {
      "cell_type": "code",
      "metadata": {
        "id": "6nMsqLMSQwPC"
      },
      "source": [
        "## To use premade functions that aren't built-in we have to explicitly import\n",
        " # In python we import what are called packages\n",
        " # In the next line we assign the imported package to a new name (numpy --> np)\n",
        "import numpy as np\n",
        "\n",
        "    # having trouble importing the numpy package?:\n",
        "    # --> are you in the right environment?\n",
        "    # --> have you installed numpy\n",
        "\n",
        "a = [1,2,3]\n",
        "b = [4,5,6]\n",
        "y = np.add(a,b)\n",
        "print(y)\n",
        "\n",
        " # explain what the np.add function has accomplished here\n"
      ],
      "execution_count": null,
      "outputs": []
    },
    {
      "cell_type": "markdown",
      "metadata": {
        "id": "Z7Z3d8wRQwPE"
      },
      "source": [
        "### Activty #7\n",
        "#### Booleans"
      ]
    },
    {
      "cell_type": "code",
      "metadata": {
        "id": "_QRjhrdLQwPE"
      },
      "source": [
        "## Booleans are used to represent basic logic in programs - they evaluate to:\n",
        "    # True, or\n",
        "    # False\n",
        " # seems simple enough, right?\n",
        "\n",
        "## Booleans with arithmetic operators:\n",
        "1 == 2 # True if equal\n",
        "1 < 2 # True the value on the left is less than the value on the right\n",
        "1 != 1 # True if not equal (False if equal)\n",
        "1 <= 1 # True if value on the left is less than OR equal to the value on the right\n",
        "\n",
        "\n",
        "## Boolean Operators (and)\n",
        "# All must be True in order to be True\n",
        "# Not all must be False in order to be False\n",
        "True and True\n",
        "True and False\n",
        "False and False\n",
        "\n",
        "## Boolean Operators (not)\n",
        "# Simply just the opposite\n",
        "not True\n",
        "not False\n",
        "\n",
        "## Boolean Operators (or)\n",
        "# Is inclusively True if both True or False (unlike AND)\n",
        "True or True\n",
        "False or False\n",
        "True or False\n",
        "\n",
        "# Pick a few and use the print() function around the statement to see the output\n"
      ],
      "execution_count": null,
      "outputs": []
    },
    {
      "cell_type": "markdown",
      "metadata": {
        "id": "0TGStMphQwPF"
      },
      "source": [
        "### Activity #8\n",
        "#### Control Flow (if statements)"
      ]
    },
    {
      "cell_type": "code",
      "metadata": {
        "id": "8GexFoFNQwPH"
      },
      "source": [
        "## Start to control the behaviour of programs!\n",
        " # simplest if\n",
        "if True:\n",
        "   print(\"Hello\")\n",
        "\n",
        "if False:\n",
        "    print(\"Nothing\")\n",
        "\n",
        "## Multiple tiers of conditionals!\n",
        "x = 10 \n",
        "if x < 5:\n",
        "    print(\"x is less than 5\")\n",
        "else:\n",
        "    print(\"x is greater than or equal to 5\")\n",
        " # try changing x so that the other message is printed\n",
        "\n",
        "## Even more tiers!!\n",
        "if x < 1:\n",
        "    print(\"x is less than 1\")\n",
        "elif x > 5:\n",
        "    print(\"x is greater than 5\")\n",
        "else:\n",
        "    print(\"1 < x < 5\")"
      ],
      "execution_count": null,
      "outputs": []
    },
    {
      "cell_type": "markdown",
      "metadata": {
        "id": "Ww-yVQEVQwPI"
      },
      "source": [
        "### Activity #9\n",
        "#### Control Flow (while statements)"
      ]
    },
    {
      "cell_type": "code",
      "metadata": {
        "id": "atjpxaILQwPJ"
      },
      "source": [
        "# lets go through this line by line\n",
        "import random\n",
        "x = 0\n",
        "\n",
        "count = 0\n",
        "while count <= 10:\n",
        "    x += random.randint(0,10)\n",
        "    count += 1\n",
        "#     print(x)\n",
        "\n",
        "print(count)\n",
        "print(x) \n",
        "\n"
      ],
      "execution_count": null,
      "outputs": []
    },
    {
      "cell_type": "markdown",
      "metadata": {
        "id": "SpwlMLKuQwPK"
      },
      "source": [
        "### Activity #10\n",
        "#### Control Flow (for statements)"
      ]
    },
    {
      "cell_type": "code",
      "metadata": {
        "id": "z_VLaNtzQwPL"
      },
      "source": [
        "y = 0\n",
        "for x in range(10):\n",
        "    print(x)\n",
        "    y += 1\n",
        "print(y)\n",
        "\n",
        "# slightly more challenging for statement\n",
        "list = [1,0,1,1,1,0,1,0,1]\n",
        "count_0,count_1 = 0,0\n",
        "for x in range(len(list)):\n",
        "    if x == 0:\n",
        "        count_0 += 1\n",
        "    else:\n",
        "        count_1 += 1\n"
      ],
      "execution_count": null,
      "outputs": []
    },
    {
      "cell_type": "markdown",
      "metadata": {
        "id": "HrMMhK0YQwPM"
      },
      "source": [
        "### Activity #11\n",
        "#### Plotting (without defining the x-axis values)"
      ]
    },
    {
      "cell_type": "code",
      "metadata": {
        "id": "VveXiumMQwPN",
        "outputId": "06568296-8458-455b-8c74-7a7fc22912ad"
      },
      "source": [
        "# import the necessary plotting package with a more convient proxy\n",
        "import matplotlib.pyplot as plt\n",
        "\n",
        "# plot 1 - without a x-axis defined - uses the index of the array\n",
        "plt.plot([1, 2, 3, 4])\n",
        "plt.show()\n",
        "\n"
      ],
      "execution_count": null,
      "outputs": [
        {
          "output_type": "display_data",
          "data": {
            "image/png": "[encoded data removed]",
            "text/plain": [
              "<Figure size 432x288 with 1 Axes>"
            ]
          },
          "metadata": {
            "tags": [],
            "needs_background": "light"
          }
        }
      ]
    },
    {
      "cell_type": "markdown",
      "metadata": {
        "id": "K27QWGzMQwPR"
      },
      "source": [
        "### Activity #12\n",
        "#### Plotting (explicity stating the x-axis values"
      ]
    },
    {
      "cell_type": "code",
      "metadata": {
        "id": "Zy2PQmKNQwPS",
        "outputId": "1f37bd65-7330-47a5-9575-8bb773fca5cf"
      },
      "source": [
        "# with two arrays the first is intrepreted as x-values and the second as y-values\n",
        "plt.plot([1, 2, 3, 4], [1, 4, 9, 16])\n",
        "plt.show()\n",
        "\n"
      ],
      "execution_count": null,
      "outputs": [
        {
          "output_type": "display_data",
          "data": {
            "image/png": "[encoded data removed]",
            "text/plain": [
              "<Figure size 432x288 with 1 Axes>"
            ]
          },
          "metadata": {
            "tags": [],
            "needs_background": "light"
          }
        }
      ]
    },
    {
      "cell_type": "markdown",
      "metadata": {
        "id": "4jv9ByEMQwPT"
      },
      "source": [
        "### Activity #13\n",
        "#### Plotting (here we change the line to points and change the x/y range)"
      ]
    },
    {
      "cell_type": "code",
      "metadata": {
        "id": "cb_WknO-QwPU",
        "outputId": "35be4a3d-5699-432c-cc5d-a5d6fc4672d7"
      },
      "source": [
        "\n",
        "plt.plot([1, 2, 3, 4], [1, 4, 9, 16],'ro')\n",
        "plt.axis([0, 6, 0, 20]) # 0 and 6 define the x-range, 0 and 20 define the y-range\n",
        "plt.show()\n",
        "\n"
      ],
      "execution_count": null,
      "outputs": [
        {
          "output_type": "display_data",
          "data": {
            "image/png": "[encoded data removed]",
            "text/plain": [
              "<Figure size 432x288 with 1 Axes>"
            ]
          },
          "metadata": {
            "tags": [],
            "needs_background": "light"
          }
        }
      ]
    },
    {
      "cell_type": "markdown",
      "metadata": {
        "id": "sMUuRgBoQwPV"
      },
      "source": [
        "### Activity #14\n",
        "#### Plotting (here we plot two graphs on one figure, use sine waves, and add labels)"
      ]
    },
    {
      "cell_type": "code",
      "metadata": {
        "id": "si58il2kQwPV",
        "outputId": "7a03736e-37b3-4546-8a36-7e0a0bceef42"
      },
      "source": [
        "x = np.linspace(0, 2*np.pi, 400)\n",
        "y = np.sin(x**2)\n",
        "\n",
        "plt.subplot(2, 1, 1)\n",
        "plt.plot(x,y, 'o-')\n",
        "plt.title('A tale of 2 subplots')\n",
        "plt.ylabel('Damped oscillation')\n",
        "\n",
        "plt.subplot(2, 1, 2)\n",
        "plt.plot(x,y, '.-')\n",
        "plt.xlabel('time (s)')\n",
        "plt.ylabel('Undamped')\n",
        "\n",
        "#\n"
      ],
      "execution_count": null,
      "outputs": [
        {
          "output_type": "execute_result",
          "data": {
            "text/plain": [
              "Text(0, 0.5, 'Undamped')"
            ]
          },
          "metadata": {
            "tags": []
          },
          "execution_count": 11
        },
        {
          "output_type": "display_data",
          "data": {
            "image/png": "[encoded data removed]",
            "text/plain": [
              "<Figure size 432x288 with 2 Axes>"
            ]
          },
          "metadata": {
            "tags": [],
            "needs_background": "light"
          }
        }
      ]
    }
  ]
}